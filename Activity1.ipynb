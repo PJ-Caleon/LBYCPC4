{
  "cells": [
    {
      "cell_type": "markdown",
      "metadata": {
        "id": "h_T6hVxOJCVA"
      },
      "source": [
        "# CpE Elective 3 Laboratory (LBYCPC4) <br/>\n",
        "#### Computer Vision and Deep Learning Elective Track\n",
        "<br/>\n",
        "<hr style=\"border:5px solid gray\">\n"
      ]
    },
    {
      "cell_type": "markdown",
      "metadata": {
        "id": "AYngdfKRVFMy"
      },
      "source": [
        "## Activity 1: Autoencoders\n",
        "\n",
        "### Introduction\n",
        "&emsp;&emsp;&emsp;Autoencoders are a type of neural network that are trained to learn a compressed representation of input data. They are used to reduce dimensionality, denoise data, and even generate new data. The goal of training an autoencoder is to minimize the reconstruction error, meaning the difference between the original input and the reconstructed output should be as small as possible. This forces the autoencoder to learn a meaningful and efficient representation of the data.\n",
        "\n",
        "Although reconstructing the data might seem like a trivial matter by simply copying the data forward from one layer to another, this is not possible when the number of units in the middle are constricted. In other words, the number of units in each middle layer is typically fewer than that in the input (or\n",
        "output). As a result, these units hold a reduced representation of the data, and the final layer can no longer reconstruct the data exactly [1]. This general representation of the autoencoder is illustrated in Figure 1.1.\n",
        "\n",
        "<center><img src=\"https://drive.google.com/uc?export=view&id=1N_RUjBNfnFI19Ll9UrMNmEg7phGRPu3W\"><br/>Figure 1.1. The encoder neural network architecture [1]</center>\n",
        "\n",
        "### Objectives\n",
        "- Understand the working principle and architecture of autoencoders\n",
        "- Build and train an autoencoder using deep learning framework\n",
        "- Visualize the output of an autoencoder\n",
        "- Assess the performance of the implemented autoencoder"
      ]
    },
    {
      "cell_type": "markdown",
      "metadata": {
        "id": "uZPOtcykVQkx"
      },
      "source": [
        "### Activity\n",
        "*Note: Before starting the activity, make sure to save a copy of this Colaboratory notebook first in your own Google Drive. To do so, go to File > Save a copy in Drive*\n",
        "\n",
        "**A. Dimensionality Reduction with Autoencoders**\n",
        "\n",
        "1. Write the code that will download the [Wine Dataset from UCI ML Repository](https://archive.ics.uci.edu/dataset/109/wine). Perform feature normalization using `MinMaxScaler` from Scikit-Learn library. Then, do a train-test split of the normalized dataset with 20% of the data for testing."
      ]
    },
    {
      "cell_type": "code",
      "execution_count": 7,
      "metadata": {
        "id": "hPujKGu4XQRJ"
      },
      "outputs": [],
      "source": [
        "# Import libraries\n",
        "import numpy as np\n",
        "import matplotlib.pyplot as plt\n",
        "\n",
        "from sklearn.datasets import load_wine\n",
        "from sklearn.preprocessing import MinMaxScaler\n",
        "from sklearn.model_selection import train_test_split\n",
        "\n",
        "### --YOUR CODE HERE-- ###\n",
        "\n",
        "# Load the Wine dataset as a Numpy array\n",
        "x_train, x_test = load_wine(return_X_y=True)\n",
        "\n",
        "# Perform train-test split with 20% test data\n",
        "X_train, X_test, y_train, y_test = train_test_split(x_train, x_test, test_size=0.2, random_state=42)\n",
        "\n",
        "# Perform feature normalization using MinMaxScaler\n",
        "scaler = MinMaxScaler()\n",
        "x_train = scaler.fit_transform(x_train)\n",
        "X_test = scaler.transform(X_test)\n",
        "\n",
        "# Save the training data to variable X_train\n",
        "# Save the testing data to variable X_test\n",
        "# Save the target to variable y\n",
        "X_train = X_train.astype(np.float32)\n",
        "X_test = X_test.astype(np.float32)\n",
        "y_train = y_train.astype(np.float32)\n",
        "y_test = y_test.astype(np.float32)\n",
        "\n"
      ]
    },
    {
      "cell_type": "markdown",
      "metadata": {
        "id": "PabnczRfWZM3"
      },
      "source": [
        "2. Build an autoencoder with the architecture illustrated below. Use the Keras `Sequential` object to build it.\n",
        "<center><img src=\"https://drive.google.com/uc?export=view&id=128exLfIE21H2PVoz5w5qZn-9lESgzTFK\"></center>"
      ]
    },
    {
      "cell_type": "code",
      "execution_count": 10,
      "metadata": {
        "id": "vH-t_SlT7_UG"
      },
      "outputs": [
        {
          "data": {
            "text/html": [
              "<pre style=\"white-space:pre;overflow-x:auto;line-height:normal;font-family:Menlo,'DejaVu Sans Mono',consolas,'Courier New',monospace\"><span style=\"font-weight: bold\">Model: \"sequential_1\"</span>\n",
              "</pre>\n"
            ],
            "text/plain": [
              "\u001b[1mModel: \"sequential_1\"\u001b[0m\n"
            ]
          },
          "metadata": {},
          "output_type": "display_data"
        },
        {
          "data": {
            "text/html": [
              "<pre style=\"white-space:pre;overflow-x:auto;line-height:normal;font-family:Menlo,'DejaVu Sans Mono',consolas,'Courier New',monospace\">┏━━━━━━━━━━━━━━━━━━━━━━━━━━━━━━━━━┳━━━━━━━━━━━━━━━━━━━━━━━━┳━━━━━━━━━━━━━━━┓\n",
              "┃<span style=\"font-weight: bold\"> Layer (type)                    </span>┃<span style=\"font-weight: bold\"> Output Shape           </span>┃<span style=\"font-weight: bold\">       Param # </span>┃\n",
              "┡━━━━━━━━━━━━━━━━━━━━━━━━━━━━━━━━━╇━━━━━━━━━━━━━━━━━━━━━━━━╇━━━━━━━━━━━━━━━┩\n",
              "│ dense_1 (<span style=\"color: #0087ff; text-decoration-color: #0087ff\">Dense</span>)                 │ (<span style=\"color: #00d7ff; text-decoration-color: #00d7ff\">None</span>, <span style=\"color: #00af00; text-decoration-color: #00af00\">3</span>)              │            <span style=\"color: #00af00; text-decoration-color: #00af00\">42</span> │\n",
              "└─────────────────────────────────┴────────────────────────┴───────────────┘\n",
              "</pre>\n"
            ],
            "text/plain": [
              "┏━━━━━━━━━━━━━━━━━━━━━━━━━━━━━━━━━┳━━━━━━━━━━━━━━━━━━━━━━━━┳━━━━━━━━━━━━━━━┓\n",
              "┃\u001b[1m \u001b[0m\u001b[1mLayer (type)                   \u001b[0m\u001b[1m \u001b[0m┃\u001b[1m \u001b[0m\u001b[1mOutput Shape          \u001b[0m\u001b[1m \u001b[0m┃\u001b[1m \u001b[0m\u001b[1m      Param #\u001b[0m\u001b[1m \u001b[0m┃\n",
              "┡━━━━━━━━━━━━━━━━━━━━━━━━━━━━━━━━━╇━━━━━━━━━━━━━━━━━━━━━━━━╇━━━━━━━━━━━━━━━┩\n",
              "│ dense_1 (\u001b[38;5;33mDense\u001b[0m)                 │ (\u001b[38;5;45mNone\u001b[0m, \u001b[38;5;34m3\u001b[0m)              │            \u001b[38;5;34m42\u001b[0m │\n",
              "└─────────────────────────────────┴────────────────────────┴───────────────┘\n"
            ]
          },
          "metadata": {},
          "output_type": "display_data"
        },
        {
          "data": {
            "text/html": [
              "<pre style=\"white-space:pre;overflow-x:auto;line-height:normal;font-family:Menlo,'DejaVu Sans Mono',consolas,'Courier New',monospace\"><span style=\"font-weight: bold\"> Total params: </span><span style=\"color: #00af00; text-decoration-color: #00af00\">42</span> (168.00 B)\n",
              "</pre>\n"
            ],
            "text/plain": [
              "\u001b[1m Total params: \u001b[0m\u001b[38;5;34m42\u001b[0m (168.00 B)\n"
            ]
          },
          "metadata": {},
          "output_type": "display_data"
        },
        {
          "data": {
            "text/html": [
              "<pre style=\"white-space:pre;overflow-x:auto;line-height:normal;font-family:Menlo,'DejaVu Sans Mono',consolas,'Courier New',monospace\"><span style=\"font-weight: bold\"> Trainable params: </span><span style=\"color: #00af00; text-decoration-color: #00af00\">42</span> (168.00 B)\n",
              "</pre>\n"
            ],
            "text/plain": [
              "\u001b[1m Trainable params: \u001b[0m\u001b[38;5;34m42\u001b[0m (168.00 B)\n"
            ]
          },
          "metadata": {},
          "output_type": "display_data"
        },
        {
          "data": {
            "text/html": [
              "<pre style=\"white-space:pre;overflow-x:auto;line-height:normal;font-family:Menlo,'DejaVu Sans Mono',consolas,'Courier New',monospace\"><span style=\"font-weight: bold\"> Non-trainable params: </span><span style=\"color: #00af00; text-decoration-color: #00af00\">0</span> (0.00 B)\n",
              "</pre>\n"
            ],
            "text/plain": [
              "\u001b[1m Non-trainable params: \u001b[0m\u001b[38;5;34m0\u001b[0m (0.00 B)\n"
            ]
          },
          "metadata": {},
          "output_type": "display_data"
        },
        {
          "data": {
            "text/html": [
              "<pre style=\"white-space:pre;overflow-x:auto;line-height:normal;font-family:Menlo,'DejaVu Sans Mono',consolas,'Courier New',monospace\"><span style=\"font-weight: bold\">Model: \"sequential_2\"</span>\n",
              "</pre>\n"
            ],
            "text/plain": [
              "\u001b[1mModel: \"sequential_2\"\u001b[0m\n"
            ]
          },
          "metadata": {},
          "output_type": "display_data"
        },
        {
          "data": {
            "text/html": [
              "<pre style=\"white-space:pre;overflow-x:auto;line-height:normal;font-family:Menlo,'DejaVu Sans Mono',consolas,'Courier New',monospace\">┏━━━━━━━━━━━━━━━━━━━━━━━━━━━━━━━━━┳━━━━━━━━━━━━━━━━━━━━━━━━┳━━━━━━━━━━━━━━━┓\n",
              "┃<span style=\"font-weight: bold\"> Layer (type)                    </span>┃<span style=\"font-weight: bold\"> Output Shape           </span>┃<span style=\"font-weight: bold\">       Param # </span>┃\n",
              "┡━━━━━━━━━━━━━━━━━━━━━━━━━━━━━━━━━╇━━━━━━━━━━━━━━━━━━━━━━━━╇━━━━━━━━━━━━━━━┩\n",
              "│ dense_2 (<span style=\"color: #0087ff; text-decoration-color: #0087ff\">Dense</span>)                 │ (<span style=\"color: #00d7ff; text-decoration-color: #00d7ff\">None</span>, <span style=\"color: #00af00; text-decoration-color: #00af00\">13</span>)             │            <span style=\"color: #00af00; text-decoration-color: #00af00\">52</span> │\n",
              "└─────────────────────────────────┴────────────────────────┴───────────────┘\n",
              "</pre>\n"
            ],
            "text/plain": [
              "┏━━━━━━━━━━━━━━━━━━━━━━━━━━━━━━━━━┳━━━━━━━━━━━━━━━━━━━━━━━━┳━━━━━━━━━━━━━━━┓\n",
              "┃\u001b[1m \u001b[0m\u001b[1mLayer (type)                   \u001b[0m\u001b[1m \u001b[0m┃\u001b[1m \u001b[0m\u001b[1mOutput Shape          \u001b[0m\u001b[1m \u001b[0m┃\u001b[1m \u001b[0m\u001b[1m      Param #\u001b[0m\u001b[1m \u001b[0m┃\n",
              "┡━━━━━━━━━━━━━━━━━━━━━━━━━━━━━━━━━╇━━━━━━━━━━━━━━━━━━━━━━━━╇━━━━━━━━━━━━━━━┩\n",
              "│ dense_2 (\u001b[38;5;33mDense\u001b[0m)                 │ (\u001b[38;5;45mNone\u001b[0m, \u001b[38;5;34m13\u001b[0m)             │            \u001b[38;5;34m52\u001b[0m │\n",
              "└─────────────────────────────────┴────────────────────────┴───────────────┘\n"
            ]
          },
          "metadata": {},
          "output_type": "display_data"
        },
        {
          "data": {
            "text/html": [
              "<pre style=\"white-space:pre;overflow-x:auto;line-height:normal;font-family:Menlo,'DejaVu Sans Mono',consolas,'Courier New',monospace\"><span style=\"font-weight: bold\"> Total params: </span><span style=\"color: #00af00; text-decoration-color: #00af00\">52</span> (208.00 B)\n",
              "</pre>\n"
            ],
            "text/plain": [
              "\u001b[1m Total params: \u001b[0m\u001b[38;5;34m52\u001b[0m (208.00 B)\n"
            ]
          },
          "metadata": {},
          "output_type": "display_data"
        },
        {
          "data": {
            "text/html": [
              "<pre style=\"white-space:pre;overflow-x:auto;line-height:normal;font-family:Menlo,'DejaVu Sans Mono',consolas,'Courier New',monospace\"><span style=\"font-weight: bold\"> Trainable params: </span><span style=\"color: #00af00; text-decoration-color: #00af00\">52</span> (208.00 B)\n",
              "</pre>\n"
            ],
            "text/plain": [
              "\u001b[1m Trainable params: \u001b[0m\u001b[38;5;34m52\u001b[0m (208.00 B)\n"
            ]
          },
          "metadata": {},
          "output_type": "display_data"
        },
        {
          "data": {
            "text/html": [
              "<pre style=\"white-space:pre;overflow-x:auto;line-height:normal;font-family:Menlo,'DejaVu Sans Mono',consolas,'Courier New',monospace\"><span style=\"font-weight: bold\"> Non-trainable params: </span><span style=\"color: #00af00; text-decoration-color: #00af00\">0</span> (0.00 B)\n",
              "</pre>\n"
            ],
            "text/plain": [
              "\u001b[1m Non-trainable params: \u001b[0m\u001b[38;5;34m0\u001b[0m (0.00 B)\n"
            ]
          },
          "metadata": {},
          "output_type": "display_data"
        }
      ],
      "source": [
        "# Import functions and classes from Keras library\n",
        "from keras import Input, models\n",
        "from keras.models import Sequential\n",
        "from keras.layers import Dense\n",
        "\n",
        "# Create the autoencoder model based from the illustrated model plot\n",
        "# Save the model as autoencoder_ann variable\n",
        "### --YOUR CODE HERE-- ###\n",
        "\n",
        "# define encoder\n",
        "encoder = Sequential(\n",
        "    [\n",
        "        Input(shape=(13,)),\n",
        "        Dense(3, activation=\"sigmoid\", dtype='float32')\n",
        "    ]\n",
        ")\n",
        "\n",
        "# define decoder \n",
        "decoder = Sequential(\n",
        "    [\n",
        "        Input(shape=(3,)),\n",
        "        Dense(13, activation=\"sigmoid\", dtype='float32')\n",
        "    ]\n",
        ")\n",
        "\n",
        "encoder.summary()\n",
        "decoder.summary()"
      ]
    },
    {
      "cell_type": "markdown",
      "metadata": {
        "id": "k36ALD1WAgOe"
      },
      "source": [
        "3. Configure the network for training with the Adam optimizer and the loss to mean squared error. Then train the model with a batch size of 10. Use the test data for validation during training. Make sure to save the history of losses per training and validation epoch. Train the model until the validation loss is no more than 0.02."
      ]
    },
    {
      "cell_type": "code",
      "execution_count": null,
      "metadata": {
        "id": "1SMH0HzsC0x4"
      },
      "outputs": [
        {
          "data": {
            "text/html": [
              "<pre style=\"white-space:pre;overflow-x:auto;line-height:normal;font-family:Menlo,'DejaVu Sans Mono',consolas,'Courier New',monospace\"><span style=\"font-weight: bold\">Model: \"sequential_3\"</span>\n",
              "</pre>\n"
            ],
            "text/plain": [
              "\u001b[1mModel: \"sequential_3\"\u001b[0m\n"
            ]
          },
          "metadata": {},
          "output_type": "display_data"
        },
        {
          "data": {
            "text/html": [
              "<pre style=\"white-space:pre;overflow-x:auto;line-height:normal;font-family:Menlo,'DejaVu Sans Mono',consolas,'Courier New',monospace\">┏━━━━━━━━━━━━━━━━━━━━━━━━━━━━━━━━━┳━━━━━━━━━━━━━━━━━━━━━━━━┳━━━━━━━━━━━━━━━┓\n",
              "┃<span style=\"font-weight: bold\"> Layer (type)                    </span>┃<span style=\"font-weight: bold\"> Output Shape           </span>┃<span style=\"font-weight: bold\">       Param # </span>┃\n",
              "┡━━━━━━━━━━━━━━━━━━━━━━━━━━━━━━━━━╇━━━━━━━━━━━━━━━━━━━━━━━━╇━━━━━━━━━━━━━━━┩\n",
              "│ sequential_1 (<span style=\"color: #0087ff; text-decoration-color: #0087ff\">Sequential</span>)       │ (<span style=\"color: #00d7ff; text-decoration-color: #00d7ff\">None</span>, <span style=\"color: #00af00; text-decoration-color: #00af00\">3</span>)              │            <span style=\"color: #00af00; text-decoration-color: #00af00\">42</span> │\n",
              "├─────────────────────────────────┼────────────────────────┼───────────────┤\n",
              "│ sequential_2 (<span style=\"color: #0087ff; text-decoration-color: #0087ff\">Sequential</span>)       │ (<span style=\"color: #00d7ff; text-decoration-color: #00d7ff\">None</span>, <span style=\"color: #00af00; text-decoration-color: #00af00\">13</span>)             │            <span style=\"color: #00af00; text-decoration-color: #00af00\">52</span> │\n",
              "└─────────────────────────────────┴────────────────────────┴───────────────┘\n",
              "</pre>\n"
            ],
            "text/plain": [
              "┏━━━━━━━━━━━━━━━━━━━━━━━━━━━━━━━━━┳━━━━━━━━━━━━━━━━━━━━━━━━┳━━━━━━━━━━━━━━━┓\n",
              "┃\u001b[1m \u001b[0m\u001b[1mLayer (type)                   \u001b[0m\u001b[1m \u001b[0m┃\u001b[1m \u001b[0m\u001b[1mOutput Shape          \u001b[0m\u001b[1m \u001b[0m┃\u001b[1m \u001b[0m\u001b[1m      Param #\u001b[0m\u001b[1m \u001b[0m┃\n",
              "┡━━━━━━━━━━━━━━━━━━━━━━━━━━━━━━━━━╇━━━━━━━━━━━━━━━━━━━━━━━━╇━━━━━━━━━━━━━━━┩\n",
              "│ sequential_1 (\u001b[38;5;33mSequential\u001b[0m)       │ (\u001b[38;5;45mNone\u001b[0m, \u001b[38;5;34m3\u001b[0m)              │            \u001b[38;5;34m42\u001b[0m │\n",
              "├─────────────────────────────────┼────────────────────────┼───────────────┤\n",
              "│ sequential_2 (\u001b[38;5;33mSequential\u001b[0m)       │ (\u001b[38;5;45mNone\u001b[0m, \u001b[38;5;34m13\u001b[0m)             │            \u001b[38;5;34m52\u001b[0m │\n",
              "└─────────────────────────────────┴────────────────────────┴───────────────┘\n"
            ]
          },
          "metadata": {},
          "output_type": "display_data"
        },
        {
          "data": {
            "text/html": [
              "<pre style=\"white-space:pre;overflow-x:auto;line-height:normal;font-family:Menlo,'DejaVu Sans Mono',consolas,'Courier New',monospace\"><span style=\"font-weight: bold\"> Total params: </span><span style=\"color: #00af00; text-decoration-color: #00af00\">94</span> (376.00 B)\n",
              "</pre>\n"
            ],
            "text/plain": [
              "\u001b[1m Total params: \u001b[0m\u001b[38;5;34m94\u001b[0m (376.00 B)\n"
            ]
          },
          "metadata": {},
          "output_type": "display_data"
        },
        {
          "data": {
            "text/html": [
              "<pre style=\"white-space:pre;overflow-x:auto;line-height:normal;font-family:Menlo,'DejaVu Sans Mono',consolas,'Courier New',monospace\"><span style=\"font-weight: bold\"> Trainable params: </span><span style=\"color: #00af00; text-decoration-color: #00af00\">94</span> (376.00 B)\n",
              "</pre>\n"
            ],
            "text/plain": [
              "\u001b[1m Trainable params: \u001b[0m\u001b[38;5;34m94\u001b[0m (376.00 B)\n"
            ]
          },
          "metadata": {},
          "output_type": "display_data"
        },
        {
          "data": {
            "text/html": [
              "<pre style=\"white-space:pre;overflow-x:auto;line-height:normal;font-family:Menlo,'DejaVu Sans Mono',consolas,'Courier New',monospace\"><span style=\"font-weight: bold\"> Non-trainable params: </span><span style=\"color: #00af00; text-decoration-color: #00af00\">0</span> (0.00 B)\n",
              "</pre>\n"
            ],
            "text/plain": [
              "\u001b[1m Non-trainable params: \u001b[0m\u001b[38;5;34m0\u001b[0m (0.00 B)\n"
            ]
          },
          "metadata": {},
          "output_type": "display_data"
        }
      ],
      "source": [
        "# Configure the network for training using the compile method\n",
        "# Set the optimizer to Adam and determine the appropriate loss function\n",
        "### --YOUR CODE HERE-- ###\n",
        "\n",
        "# Compile the autoencoder model\n",
        "autoencoder = models.Sequential([encoder, decoder])\n",
        "adam = Adam(learning_rate=1e-4)\n",
        "autoencoder.compile(optimizer=adam, loss='mse')\n",
        "autoencoder.summary()\n",
        "\n",
        "# Assign the output to hist_autoencoder_ann variable\n",
        "### --YOUR CODE HERE-- ###\n"
      ]
    },
    {
      "cell_type": "code",
      "execution_count": 15,
      "metadata": {},
      "outputs": [
        {
          "name": "stdout",
          "output_type": "stream",
          "text": [
            "Epoch 1/100\n",
            "15/15 - 0s - 15ms/step - loss: 49303.5859 - val_loss: 0.0718\n",
            "Epoch 2/100\n",
            "15/15 - 0s - 7ms/step - loss: 49301.3789 - val_loss: 0.0739\n",
            "Epoch 3/100\n",
            "15/15 - 0s - 9ms/step - loss: 49298.9805 - val_loss: 0.0761\n",
            "Epoch 4/100\n",
            "15/15 - 0s - 14ms/step - loss: 49296.4531 - val_loss: 0.0783\n",
            "Epoch 5/100\n",
            "15/15 - 0s - 13ms/step - loss: 49293.9023 - val_loss: 0.0805\n",
            "Epoch 6/100\n",
            "15/15 - 0s - 18ms/step - loss: 49291.6797 - val_loss: 0.0828\n",
            "Epoch 7/100\n",
            "15/15 - 0s - 20ms/step - loss: 49289.2812 - val_loss: 0.0852\n",
            "Epoch 8/100\n",
            "15/15 - 0s - 21ms/step - loss: 49287.6875 - val_loss: 0.0876\n",
            "Epoch 9/100\n",
            "15/15 - 0s - 31ms/step - loss: 49286.2656 - val_loss: 0.0900\n",
            "Epoch 10/100\n",
            "15/15 - 0s - 10ms/step - loss: 49284.8086 - val_loss: 0.0924\n",
            "Epoch 11/100\n",
            "15/15 - 0s - 18ms/step - loss: 49283.4336 - val_loss: 0.0949\n",
            "Epoch 12/100\n",
            "15/15 - 0s - 13ms/step - loss: 49282.0234 - val_loss: 0.0974\n",
            "Epoch 13/100\n",
            "15/15 - 0s - 19ms/step - loss: 49280.6641 - val_loss: 0.0999\n",
            "Epoch 14/100\n",
            "15/15 - 0s - 13ms/step - loss: 49279.3242 - val_loss: 0.1025\n",
            "Epoch 15/100\n",
            "15/15 - 0s - 10ms/step - loss: 49278.0195 - val_loss: 0.1050\n",
            "Epoch 16/100\n",
            "15/15 - 0s - 12ms/step - loss: 49276.7695 - val_loss: 0.1076\n",
            "Epoch 17/100\n",
            "15/15 - 0s - 9ms/step - loss: 49275.5195 - val_loss: 0.1101\n",
            "Epoch 18/100\n",
            "15/15 - 0s - 13ms/step - loss: 49274.3047 - val_loss: 0.1126\n",
            "Epoch 19/100\n",
            "15/15 - 0s - 9ms/step - loss: 49273.1250 - val_loss: 0.1151\n",
            "Epoch 20/100\n",
            "15/15 - 0s - 9ms/step - loss: 49271.9570 - val_loss: 0.1177\n",
            "Epoch 21/100\n",
            "15/15 - 0s - 9ms/step - loss: 49270.8242 - val_loss: 0.1202\n",
            "Epoch 22/100\n",
            "15/15 - 0s - 9ms/step - loss: 49269.7266 - val_loss: 0.1227\n",
            "Epoch 23/100\n",
            "15/15 - 0s - 10ms/step - loss: 49268.6523 - val_loss: 0.1252\n",
            "Epoch 24/100\n",
            "15/15 - 0s - 18ms/step - loss: 49267.5977 - val_loss: 0.1277\n",
            "Epoch 25/100\n",
            "15/15 - 0s - 8ms/step - loss: 49266.5977 - val_loss: 0.1301\n",
            "Epoch 26/100\n",
            "15/15 - 0s - 10ms/step - loss: 49265.6133 - val_loss: 0.1326\n",
            "Epoch 27/100\n",
            "15/15 - 0s - 11ms/step - loss: 49264.6562 - val_loss: 0.1351\n",
            "Epoch 28/100\n",
            "15/15 - 0s - 9ms/step - loss: 49263.7188 - val_loss: 0.1375\n",
            "Epoch 29/100\n",
            "15/15 - 0s - 7ms/step - loss: 49262.8203 - val_loss: 0.1400\n",
            "Epoch 30/100\n",
            "15/15 - 0s - 11ms/step - loss: 49261.9375 - val_loss: 0.1423\n",
            "Epoch 31/100\n",
            "15/15 - 0s - 9ms/step - loss: 49261.0938 - val_loss: 0.1447\n",
            "Epoch 32/100\n",
            "15/15 - 0s - 10ms/step - loss: 49260.2656 - val_loss: 0.1470\n",
            "Epoch 33/100\n",
            "15/15 - 0s - 9ms/step - loss: 49259.4688 - val_loss: 0.1494\n",
            "Epoch 34/100\n",
            "15/15 - 0s - 8ms/step - loss: 49258.6875 - val_loss: 0.1517\n",
            "Epoch 35/100\n",
            "15/15 - 0s - 8ms/step - loss: 49257.9336 - val_loss: 0.1539\n",
            "Epoch 36/100\n",
            "15/15 - 0s - 10ms/step - loss: 49257.2031 - val_loss: 0.1562\n",
            "Epoch 37/100\n",
            "15/15 - 0s - 8ms/step - loss: 49256.5078 - val_loss: 0.1584\n",
            "Epoch 38/100\n",
            "15/15 - 0s - 9ms/step - loss: 49255.8359 - val_loss: 0.1605\n",
            "Epoch 39/100\n",
            "15/15 - 0s - 8ms/step - loss: 49255.1914 - val_loss: 0.1627\n",
            "Epoch 40/100\n",
            "15/15 - 0s - 8ms/step - loss: 49254.5547 - val_loss: 0.1648\n",
            "Epoch 41/100\n",
            "15/15 - 0s - 11ms/step - loss: 49253.9492 - val_loss: 0.1669\n",
            "Epoch 42/100\n",
            "15/15 - 0s - 17ms/step - loss: 49253.3711 - val_loss: 0.1690\n",
            "Epoch 43/100\n",
            "15/15 - 0s - 11ms/step - loss: 49252.7852 - val_loss: 0.1710\n",
            "Epoch 44/100\n",
            "15/15 - 0s - 11ms/step - loss: 49252.2383 - val_loss: 0.1731\n",
            "Epoch 45/100\n",
            "15/15 - 0s - 16ms/step - loss: 49251.7031 - val_loss: 0.1751\n",
            "Epoch 46/100\n",
            "15/15 - 0s - 10ms/step - loss: 49251.1836 - val_loss: 0.1771\n",
            "Epoch 47/100\n",
            "15/15 - 0s - 9ms/step - loss: 49250.6758 - val_loss: 0.1790\n",
            "Epoch 48/100\n",
            "15/15 - 0s - 9ms/step - loss: 49250.1953 - val_loss: 0.1809\n",
            "Epoch 49/100\n",
            "15/15 - 0s - 9ms/step - loss: 49249.7188 - val_loss: 0.1828\n",
            "Epoch 50/100\n",
            "15/15 - 0s - 10ms/step - loss: 49249.2656 - val_loss: 0.1847\n",
            "Epoch 51/100\n",
            "15/15 - 0s - 10ms/step - loss: 49248.8242 - val_loss: 0.1866\n"
          ]
        }
      ],
      "source": [
        "# Train the model using X_train. Use validation with X_test\n",
        "# Set the batch size to 10 and the verbosity to 2.\n",
        "# Ensure the validation loss to be no greater than 0.02\n",
        "# Use early stopping to determine the appropriate training epochs\n",
        "from keras.callbacks import EarlyStopping\n",
        "\n",
        "early_stopping = EarlyStopping(monitor='val_loss', patience=50, restore_best_weights=True)\n",
        "hist_autoencoder_ann = autoencoder.fit(X_train, X_train,\n",
        "                                       epochs=100,\n",
        "                                       batch_size=10,\n",
        "                                       validation_data=(X_test, X_test),\n",
        "                                       callbacks=[early_stopping],\n",
        "                                       verbose=2)\n"
      ]
    },
    {
      "cell_type": "markdown",
      "metadata": {
        "id": "RzvO0ScbgSEJ"
      },
      "source": [
        "4. Plot the training and validation loss per epoch. Place appropriate plot title and axis labels."
      ]
    },
    {
      "cell_type": "code",
      "execution_count": null,
      "metadata": {
        "id": "fr4eJ_3sv77N"
      },
      "outputs": [],
      "source": [
        "# Extract the losses during training and validation\n",
        "losses = hist_autoencoder_ann.history[\"loss\"]\n",
        "validation_losses = hist_autoencoder_ann.history[\"val_loss\"]\n",
        "epochs = range(1, len(losses) + 1)\n",
        "\n",
        "# Plot the history of training and validation losses\n",
        "plt.figure(figsize=(10, 5), constrained_layout=True)\n",
        "plt.subplot(1, 2, 1)\n",
        "### --YOUR CODE HERE-- ###\n"
      ]
    },
    {
      "cell_type": "markdown",
      "metadata": {
        "id": "pscQakiCw0rS"
      },
      "source": [
        "5. Extract the encoder subnetwork from the autoencoder. Obtain the output of the encoder for each dataset sample."
      ]
    },
    {
      "cell_type": "code",
      "execution_count": null,
      "metadata": {
        "id": "95_nMqqSzbwi"
      },
      "outputs": [],
      "source": [
        "# Extract the encoder subnetwork\n",
        "encoder_ann = Sequential(autoencoder_ann.layers[:1])\n",
        "\n",
        "# Obtain the output of the encoder for each dataset sample\n",
        "# Save the results to X_encoded variable\n",
        "# The results should include both training and testing data\n",
        "### --YOUR CODE HERE-- ###\n"
      ]
    },
    {
      "cell_type": "markdown",
      "metadata": {
        "id": "wFqt6z0HzcSH"
      },
      "source": [
        "6. Execute the code below to obtain a 3D plot of the values returned by the encoder for each dataset sample. Can you distinguish the clusters? Analyze the plot and write observations on the final report."
      ]
    },
    {
      "cell_type": "code",
      "execution_count": null,
      "metadata": {
        "id": "lkPXAdAj1Ex_"
      },
      "outputs": [],
      "source": [
        "# Create a 3D plot of the encoder predictions for each dataset point\n",
        "fig = plt.figure(1, figsize=(8, 6))\n",
        "ax = fig.add_subplot(111, projection=\"3d\", elev=45, azim=-45)\n",
        "ax.scatter(\n",
        "    X_encoded[:, 0],\n",
        "    X_encoded[:, 1],\n",
        "    X_encoded[:, 2],\n",
        "    c=y,\n",
        "    s=20\n",
        ")\n",
        "\n",
        "# Set titles and axis labels\n",
        "ax.set_title(\"Encoder output\")\n",
        "ax.set_xlabel(\"Component 1\")\n",
        "ax.set_ylabel(\"Component 2\")\n",
        "ax.set_zlabel(\"Component 3\")\n",
        "\n",
        "plt.show()"
      ]
    },
    {
      "cell_type": "markdown",
      "metadata": {
        "id": "yaUwk5rUjpXB"
      },
      "source": [
        "7. Execute the code below to perform principal component analysis (PCA) and write the code to plot the transformed datapoints with the first three (3) PCA dimensions. Compare this plot with step A.6. Write your observations on the final report."
      ]
    },
    {
      "cell_type": "code",
      "execution_count": null,
      "metadata": {
        "id": "8wlKSSTWOICI"
      },
      "outputs": [],
      "source": [
        "# Import PCA from Scikit-Learn\n",
        "from sklearn.decomposition import PCA\n",
        "\n",
        "X_PCA = PCA(n_components=3).fit_transform(np.vstack((X_train, X_test)))\n",
        "\n",
        "# Create a 3D plot of the PCA components for each dataset point\n",
        "# Put appropriate title and axis labels\n",
        "### --YOUR CODE HERE-- ###\n"
      ]
    },
    {
      "cell_type": "markdown",
      "metadata": {
        "id": "upU21DfzpFA4"
      },
      "source": [
        "8. Create another autoencoder model but with only two (2) nodes in the middle. Repeat steps A.3 to A.6. This time, create 2D plots instead of 3D plots to visualize the encoder subnetwork outputs. Is the final validation loss better than the previous model? Can the model clearly separate the targets into distinguishable clusters? Write your observations in the final report."
      ]
    },
    {
      "cell_type": "code",
      "execution_count": null,
      "metadata": {
        "id": "8aGc4RfWpFZ5"
      },
      "outputs": [],
      "source": [
        "# Define another autoencoder with 2 nodes at hidden layer\n",
        "### --YOUR CODE HERE-- ###\n",
        "\n",
        "# Configure and train the network\n",
        "### --YOUR CODE HERE-- ###\n",
        "\n",
        "# Plot the history of training and validation losses\n",
        "### --YOUR CODE HERE-- ###\n",
        "\n",
        "# Obtain the output of the encoder for each dataset sample\n",
        "### --YOUR CODE HERE-- ###\n"
      ]
    },
    {
      "cell_type": "markdown",
      "metadata": {
        "id": "y-T0TkSE1FL1"
      },
      "source": [
        "**B. Building a Denoising Convolutional Autoencoder**\n",
        "\n",
        "1. Write the code that will download and display at least ten (10) samples of the [Fashion MNIST](https://github.com/zalandoresearch/fashion-mnist) dataset."
      ]
    },
    {
      "cell_type": "code",
      "execution_count": null,
      "metadata": {
        "id": "mPLAr5-V8mYQ"
      },
      "outputs": [],
      "source": [
        "# Import functions and classes\n",
        "from keras.datasets import fashion_mnist\n",
        "from keras.utils import to_categorical\n",
        "\n",
        "# Load the Fashion MNIST dataset\n",
        "# Rescale the pixel values to be between 0 and 1\n",
        "# Save the training images and labels to x_train and y_train variables\n",
        "# Save the testing images and labels to x_test and y_test variables\n",
        "# Plot ten (10) images from training set in a single row\n",
        "### --YOUR CODE HERE-- ###\n"
      ]
    },
    {
      "cell_type": "markdown",
      "metadata": {
        "id": "mSrADvDm8nTs"
      },
      "source": [
        "2. Execute the code below to generate a copy of noisy images and display the images."
      ]
    },
    {
      "cell_type": "code",
      "execution_count": null,
      "metadata": {
        "id": "JIaP_yrq89yR"
      },
      "outputs": [],
      "source": [
        "# Apply noise to the image\n",
        "x_train_noisy = x_train + 0.2*np.random.normal(loc=0, scale=1,\n",
        "                                               size=x_train.shape)\n",
        "x_test_noisy = x_test + 0.2*np.random.normal(loc=0, scale=1,\n",
        "                                             size=x_test.shape)\n",
        "\n",
        "# Ensure that all pixel values are within the range\n",
        "x_train_noisy = np.clip(x_train_noisy, 0, 1)\n",
        "x_test_noisy = np.clip(x_test_noisy, 0, 1)\n",
        "\n",
        "# Plot ten (10) noisy images from training set in a single row\n",
        "fig, axes = plt.subplots(1, 10, figsize=(10, 10),\n",
        "                         subplot_kw={'xticks':[], 'yticks':[]},\n",
        "                         gridspec_kw=dict(hspace=0.1, wspace=0.1))\n",
        "\n",
        "for i, ax in enumerate(axes.flat):\n",
        "  ax.imshow(x_train_noisy[i], cmap='binary', interpolation='none')"
      ]
    },
    {
      "cell_type": "markdown",
      "metadata": {
        "id": "mG94q1ca8-FX"
      },
      "source": [
        "3. Build a denoising autoencoder with the architecture illustrated below.\n",
        "<center><img src=\"https://drive.google.com/uc?export=view&id=1KaLOal7SSsvdIySh5rFw3sd0CwanGQDX\"></center>"
      ]
    },
    {
      "cell_type": "code",
      "execution_count": null,
      "metadata": {
        "id": "8J-XGAHA-UxJ"
      },
      "outputs": [],
      "source": [
        "# Import functions and classes\n",
        "from keras.layers import Conv2D, MaxPooling2D, UpSampling2D\n",
        "\n",
        "# Create the autoencoder model based from the illustrated model plot\n",
        "# Save the model as autoencoder_cnn variable\n",
        "### --YOUR CODE HERE-- ###\n"
      ]
    },
    {
      "cell_type": "markdown",
      "metadata": {
        "id": "5_h8vIv8-VIe"
      },
      "source": [
        "4. Configure the network for training with the appropriate loss function and an optimizer of your choice. Then train the model with a batch size of 100. Perform validation during training. Make sure to save the history of losses per training and validation epoch."
      ]
    },
    {
      "cell_type": "code",
      "execution_count": null,
      "metadata": {
        "id": "YFjjyv7FV6p1"
      },
      "outputs": [],
      "source": [
        "# Configure the network for training\n",
        "### --YOUR CODE HERE-- ###\n",
        "\n",
        "# Train the model. Perform validation as well\n",
        "# Set the batch size to 100 and the verbosity to 2\n",
        "# Ensure the validation loss to be no greater than 0.01\n",
        "# Use early stopping to determine the appropriate training epochs\n",
        "# Assign the output to hist_autoencoder_cnn variable\n",
        "### --YOUR CODE HERE-- ###\n"
      ]
    },
    {
      "cell_type": "markdown",
      "metadata": {
        "id": "VfCklLvPV7D9"
      },
      "source": [
        "5. Plot the training and validation loss per epoch. Place appropriate plot title and axis labels."
      ]
    },
    {
      "cell_type": "code",
      "execution_count": null,
      "metadata": {
        "id": "_oGA6hRUZYGk"
      },
      "outputs": [],
      "source": [
        "# Extract the losses during training and validation\n",
        "losses = hist_autoencoder_cnn.history[\"loss\"]\n",
        "validation_losses = hist_autoencoder_cnn.history[\"val_loss\"]\n",
        "epochs = range(1, len(losses) + 1)\n",
        "\n",
        "# Plot the history of training and validation losses\n",
        "plt.figure(figsize=(10, 5), constrained_layout=True)\n",
        "plt.subplot(1, 2, 1)\n",
        "### --YOUR CODE HERE-- ###\n"
      ]
    },
    {
      "cell_type": "markdown",
      "metadata": {
        "id": "5_B4Iw_wZYcD"
      },
      "source": [
        "6. Obtain the model output for at least ten (10) noisy test images. Display the input images in the first row and the output images in the second row."
      ]
    },
    {
      "cell_type": "code",
      "execution_count": null,
      "metadata": {
        "id": "Yw5XWv87Z5lz"
      },
      "outputs": [],
      "source": [
        "# Obtain model output for ten (10) input noisy images\n",
        "# Display both the input noisy images and the output denoised image in two rows\n",
        "# The first row contains the input noisy images\n",
        "# The second row contains the output denoised images\n",
        "### --YOUR CODE HERE-- ###\n"
      ]
    },
    {
      "cell_type": "markdown",
      "metadata": {
        "id": "ZX3Xx8CYNjwZ"
      },
      "source": [
        "7. For each test image, measure the error of the reconstruction between the original (prior to applying noise) image and the denoised (model output for noisy input) image. Research an appropriate  error measure between these images and justify it in your final report. Furthermore, take the average of errors across all test images and put the value in your final report."
      ]
    },
    {
      "cell_type": "code",
      "execution_count": null,
      "metadata": {
        "id": "YlMKLeTyc0p7"
      },
      "outputs": [],
      "source": [
        "### --YOUR CODE HERE-- ###"
      ]
    },
    {
      "cell_type": "markdown",
      "metadata": {
        "id": "T0327ksoZ6Jp"
      },
      "source": [
        "8. Look for at least five (5) images of clothing converted to normalized grayscale images and with the same size as the training dataset. Apply noise as done in task B.2. Obtain the predictions and display the input images in the first row and the output images in the second row. Put the results and write  observations in the final report."
      ]
    },
    {
      "cell_type": "code",
      "execution_count": null,
      "metadata": {
        "id": "hIkocIs4PouY"
      },
      "outputs": [],
      "source": [
        "### --YOUR CODE HERE-- ###"
      ]
    },
    {
      "cell_type": "markdown",
      "metadata": {
        "id": "BDXITKpu9nGJ"
      },
      "source": [
        "***"
      ]
    },
    {
      "cell_type": "markdown",
      "metadata": {
        "id": "4dIY4kvdVTW8"
      },
      "source": [
        "### Machine Problems\n"
      ]
    },
    {
      "cell_type": "markdown",
      "metadata": {
        "id": "jtS1UxTpVZm8"
      },
      "source": [
        "### References\n",
        "\n",
        "[1] Aggarwal, Charu C. *Neural Networks and Deep Learning : A Textbook*. 2nd ed. Cham: Springer International Publishing, 2023.\n",
        "\n",
        "[2] I. Goodfellow, Y. Bengio and A. Courville, *Deep Learning*. MIT Press, 2016.\n",
        "\n",
        "[3] *Keras 3 API documentation*. https://keras.io/api/\n",
        "\n",
        "[4] *Wine Dataset*. https://archive.ics.uci.edu/dataset/109/wine\n",
        "\n",
        "[5] *Fashion MNIST*. https://github.com/zalandoresearch/fashion-mnist"
      ]
    }
  ],
  "metadata": {
    "accelerator": "GPU",
    "colab": {
      "gpuType": "T4",
      "provenance": []
    },
    "kernelspec": {
      "display_name": "Python 3.12 (LBYCPC4)",
      "language": "python",
      "name": "lbycpc4"
    },
    "language_info": {
      "codemirror_mode": {
        "name": "ipython",
        "version": 3
      },
      "file_extension": ".py",
      "mimetype": "text/x-python",
      "name": "python",
      "nbconvert_exporter": "python",
      "pygments_lexer": "ipython3",
      "version": "3.12.7"
    }
  },
  "nbformat": 4,
  "nbformat_minor": 0
}
